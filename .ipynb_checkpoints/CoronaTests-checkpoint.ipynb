{
 "cells": [
  {
   "cell_type": "code",
   "execution_count": 1,
   "metadata": {},
   "outputs": [],
   "source": [
    "#load dependencies\n",
    "import pandas as pd, numpy as np, seaborn as sns\n",
    "import matplotlib.pyplot as plt\n",
    "from matplotlib import rcParams"
   ]
  },
  {
   "cell_type": "markdown",
   "metadata": {},
   "source": [
    "## Israel Corona Lab Tests"
   ]
  },
  {
   "cell_type": "code",
   "execution_count": 3,
   "metadata": {},
   "outputs": [],
   "source": [
    "# ## load data\n",
    "# # url = 'https://data.gov.il/dataset/f54e79b2-3e6b-4b65-a857-f93e47997d9c/resource/dcf999c1-d394-4b57-a5e0-9d014a62e046/download/corona_lab_tests_ver_0072.csv'\n",
    "# # df = pd.read_html(url)\n",
    "\n",
    "# df = pd.read_csv('data/datagov/corona_lab_tests_ver_0072.csv')\n",
    "\n",
    "# ## count values for each corona resuls\n",
    "# df.groupby('corona_result').count()"
   ]
  },
  {
   "cell_type": "code",
   "execution_count": 4,
   "metadata": {},
   "outputs": [],
   "source": [
    "# ##latest date\n",
    "# df.iloc[-1]['test_date']\n",
    "\n",
    "## convert date columns\n",
    "def convertDateColumns(df):\n",
    "    df.test_date = pd.to_datetime(df.test_date)\n",
    "    df.result_date = pd.to_datetime(df.result_date)\n",
    "    return df"
   ]
  },
  {
   "cell_type": "markdown",
   "metadata": {},
   "source": [
    "##### Days between Test and Result Date "
   ]
  },
  {
   "cell_type": "code",
   "execution_count": 5,
   "metadata": {},
   "outputs": [
    {
     "name": "stderr",
     "output_type": "stream",
     "text": [
      "C:\\Users\\eliav\\AppData\\Roaming\\Python\\Python37\\site-packages\\pandas\\core\\generic.py:5303: SettingWithCopyWarning: \n",
      "A value is trying to be set on a copy of a slice from a DataFrame.\n",
      "Try using .loc[row_indexer,col_indexer] = value instead\n",
      "\n",
      "See the caveats in the documentation: https://pandas.pydata.org/pandas-docs/stable/user_guide/indexing.html#returning-a-view-versus-a-copy\n",
      "  self[name] = value\n"
     ]
    }
   ],
   "source": [
    "# ## add difference between days\n",
    "# df_new = convertDateColumns(df[['test_date','result_date','corona_result']])\n",
    "# df_new = df_new.assign(date_dif = (df_new.result_date - df_new.test_date))\n",
    "# df_new = df_new.dropna().reset_index(drop=True)\n",
    "# df_new['date_dif_days'] = df_new['date_dif'].apply(lambda x: x.days)\n",
    "# df_new['test_weekday'] = df_new['test_date'].apply(lambda x: x.day_name())\n",
    "\n",
    "# ## save to csv\n",
    "\n",
    "# df_new.to_csv('data/datagov/corona_lab_tests_date_dif.csv', index=False)"
   ]
  },
  {
   "cell_type": "code",
   "execution_count": 6,
   "metadata": {},
   "outputs": [
    {
     "data": {
      "text/html": [
       "<div>\n",
       "<style scoped>\n",
       "    .dataframe tbody tr th:only-of-type {\n",
       "        vertical-align: middle;\n",
       "    }\n",
       "\n",
       "    .dataframe tbody tr th {\n",
       "        vertical-align: top;\n",
       "    }\n",
       "\n",
       "    .dataframe thead th {\n",
       "        text-align: right;\n",
       "    }\n",
       "</style>\n",
       "<table border=\"1\" class=\"dataframe\">\n",
       "  <thead>\n",
       "    <tr style=\"text-align: right;\">\n",
       "      <th></th>\n",
       "      <th>test_date</th>\n",
       "      <th>result_date</th>\n",
       "      <th>corona_result</th>\n",
       "      <th>date_dif_days</th>\n",
       "      <th>test_weekday</th>\n",
       "    </tr>\n",
       "  </thead>\n",
       "  <tbody>\n",
       "    <tr>\n",
       "      <th>3264239</th>\n",
       "      <td>2020-09-20</td>\n",
       "      <td>2020-09-20</td>\n",
       "      <td>חיובי</td>\n",
       "      <td>0</td>\n",
       "      <td>Sunday</td>\n",
       "    </tr>\n",
       "    <tr>\n",
       "      <th>3264240</th>\n",
       "      <td>2020-09-20</td>\n",
       "      <td>2020-09-20</td>\n",
       "      <td>שלילי</td>\n",
       "      <td>0</td>\n",
       "      <td>Sunday</td>\n",
       "    </tr>\n",
       "    <tr>\n",
       "      <th>3264241</th>\n",
       "      <td>2020-09-20</td>\n",
       "      <td>2020-09-20</td>\n",
       "      <td>שלילי</td>\n",
       "      <td>0</td>\n",
       "      <td>Sunday</td>\n",
       "    </tr>\n",
       "    <tr>\n",
       "      <th>3264242</th>\n",
       "      <td>2020-09-20</td>\n",
       "      <td>2020-09-20</td>\n",
       "      <td>חיובי</td>\n",
       "      <td>0</td>\n",
       "      <td>Sunday</td>\n",
       "    </tr>\n",
       "    <tr>\n",
       "      <th>3264243</th>\n",
       "      <td>2020-09-20</td>\n",
       "      <td>2020-09-20</td>\n",
       "      <td>שלילי</td>\n",
       "      <td>0</td>\n",
       "      <td>Sunday</td>\n",
       "    </tr>\n",
       "  </tbody>\n",
       "</table>\n",
       "</div>"
      ],
      "text/plain": [
       "         test_date result_date corona_result  date_dif_days test_weekday\n",
       "3264239 2020-09-20  2020-09-20         חיובי              0       Sunday\n",
       "3264240 2020-09-20  2020-09-20         שלילי              0       Sunday\n",
       "3264241 2020-09-20  2020-09-20         שלילי              0       Sunday\n",
       "3264242 2020-09-20  2020-09-20         חיובי              0       Sunday\n",
       "3264243 2020-09-20  2020-09-20         שלילי              0       Sunday"
      ]
     },
     "execution_count": 6,
     "metadata": {},
     "output_type": "execute_result"
    }
   ],
   "source": [
    "#load saved date_dif csv\n",
    "df = pd.read_csv('data/datagov/corona_lab_tests_date_dif.csv').drop(columns='date_dif')\n",
    "df_new = convertDateColumns(df)\n",
    "\n",
    "df_new.tail()"
   ]
  },
  {
   "cell_type": "code",
   "execution_count": 7,
   "metadata": {},
   "outputs": [
    {
     "name": "stdout",
     "output_type": "stream",
     "text": [
      "# of negative values: 831; Percent: 0.03%\n"
     ]
    }
   ],
   "source": [
    "## values with negative test-result date dif\n",
    "neg_df = df_new.loc[df_new.date_dif_days < 0].sort_values(by='date_dif_days')\n",
    "pct_neg = np.round((len(neg_df) / len(df_new) * 100),2)\n",
    "print(\"# of negative values: {}; Percent: {}%\".format(len(neg_df), pct_neg))\n",
    "\n",
    "## remove negative values\n",
    "df_clean =  df_new.loc[df_new.date_dif_days >= 0].reset_index(drop=True)"
   ]
  },
  {
   "cell_type": "code",
   "execution_count": 8,
   "metadata": {},
   "outputs": [
    {
     "data": {
      "text/html": [
       "<div>\n",
       "<style scoped>\n",
       "    .dataframe tbody tr th:only-of-type {\n",
       "        vertical-align: middle;\n",
       "    }\n",
       "\n",
       "    .dataframe tbody tr th {\n",
       "        vertical-align: top;\n",
       "    }\n",
       "\n",
       "    .dataframe thead th {\n",
       "        text-align: right;\n",
       "    }\n",
       "</style>\n",
       "<table border=\"1\" class=\"dataframe\">\n",
       "  <thead>\n",
       "    <tr style=\"text-align: right;\">\n",
       "      <th></th>\n",
       "      <th>test_date</th>\n",
       "      <th>result_date</th>\n",
       "      <th>corona_result</th>\n",
       "      <th>date_dif_days</th>\n",
       "      <th>test_weekday</th>\n",
       "    </tr>\n",
       "  </thead>\n",
       "  <tbody>\n",
       "    <tr>\n",
       "      <th>0</th>\n",
       "      <td>2020-03-11</td>\n",
       "      <td>2020-03-11</td>\n",
       "      <td>חיובי</td>\n",
       "      <td>0</td>\n",
       "      <td>Wednesday</td>\n",
       "    </tr>\n",
       "    <tr>\n",
       "      <th>1</th>\n",
       "      <td>2020-03-11</td>\n",
       "      <td>2020-03-11</td>\n",
       "      <td>שלילי</td>\n",
       "      <td>0</td>\n",
       "      <td>Wednesday</td>\n",
       "    </tr>\n",
       "    <tr>\n",
       "      <th>2</th>\n",
       "      <td>2020-03-11</td>\n",
       "      <td>2020-03-11</td>\n",
       "      <td>חיובי</td>\n",
       "      <td>0</td>\n",
       "      <td>Wednesday</td>\n",
       "    </tr>\n",
       "    <tr>\n",
       "      <th>3</th>\n",
       "      <td>2020-03-11</td>\n",
       "      <td>2020-03-11</td>\n",
       "      <td>שלילי</td>\n",
       "      <td>0</td>\n",
       "      <td>Wednesday</td>\n",
       "    </tr>\n",
       "    <tr>\n",
       "      <th>4</th>\n",
       "      <td>2020-03-11</td>\n",
       "      <td>2020-03-11</td>\n",
       "      <td>שלילי</td>\n",
       "      <td>0</td>\n",
       "      <td>Wednesday</td>\n",
       "    </tr>\n",
       "    <tr>\n",
       "      <th>...</th>\n",
       "      <td>...</td>\n",
       "      <td>...</td>\n",
       "      <td>...</td>\n",
       "      <td>...</td>\n",
       "      <td>...</td>\n",
       "    </tr>\n",
       "    <tr>\n",
       "      <th>3263408</th>\n",
       "      <td>2020-09-20</td>\n",
       "      <td>2020-09-20</td>\n",
       "      <td>חיובי</td>\n",
       "      <td>0</td>\n",
       "      <td>Sunday</td>\n",
       "    </tr>\n",
       "    <tr>\n",
       "      <th>3263409</th>\n",
       "      <td>2020-09-20</td>\n",
       "      <td>2020-09-20</td>\n",
       "      <td>שלילי</td>\n",
       "      <td>0</td>\n",
       "      <td>Sunday</td>\n",
       "    </tr>\n",
       "    <tr>\n",
       "      <th>3263410</th>\n",
       "      <td>2020-09-20</td>\n",
       "      <td>2020-09-20</td>\n",
       "      <td>שלילי</td>\n",
       "      <td>0</td>\n",
       "      <td>Sunday</td>\n",
       "    </tr>\n",
       "    <tr>\n",
       "      <th>3263411</th>\n",
       "      <td>2020-09-20</td>\n",
       "      <td>2020-09-20</td>\n",
       "      <td>חיובי</td>\n",
       "      <td>0</td>\n",
       "      <td>Sunday</td>\n",
       "    </tr>\n",
       "    <tr>\n",
       "      <th>3263412</th>\n",
       "      <td>2020-09-20</td>\n",
       "      <td>2020-09-20</td>\n",
       "      <td>שלילי</td>\n",
       "      <td>0</td>\n",
       "      <td>Sunday</td>\n",
       "    </tr>\n",
       "  </tbody>\n",
       "</table>\n",
       "<p>3263413 rows × 5 columns</p>\n",
       "</div>"
      ],
      "text/plain": [
       "         test_date result_date corona_result  date_dif_days test_weekday\n",
       "0       2020-03-11  2020-03-11         חיובי              0    Wednesday\n",
       "1       2020-03-11  2020-03-11         שלילי              0    Wednesday\n",
       "2       2020-03-11  2020-03-11         חיובי              0    Wednesday\n",
       "3       2020-03-11  2020-03-11         שלילי              0    Wednesday\n",
       "4       2020-03-11  2020-03-11         שלילי              0    Wednesday\n",
       "...            ...         ...           ...            ...          ...\n",
       "3263408 2020-09-20  2020-09-20         חיובי              0       Sunday\n",
       "3263409 2020-09-20  2020-09-20         שלילי              0       Sunday\n",
       "3263410 2020-09-20  2020-09-20         שלילי              0       Sunday\n",
       "3263411 2020-09-20  2020-09-20         חיובי              0       Sunday\n",
       "3263412 2020-09-20  2020-09-20         שלילי              0       Sunday\n",
       "\n",
       "[3263413 rows x 5 columns]"
      ]
     },
     "execution_count": 8,
     "metadata": {},
     "output_type": "execute_result"
    }
   ],
   "source": [
    "df_clean \n",
    "# df_clean['test_weekday'] = df_clean['test_date'].dt.day_name\n",
    "# df_clean['test_weekday'])"
   ]
  },
  {
   "cell_type": "code",
   "execution_count": 9,
   "metadata": {},
   "outputs": [],
   "source": [
    "# ## bin to categories\n",
    "# gdf = df_clean.groupby('date_dif_days')[['date_dif']].count()\n",
    "# gdf['days_bin'] = pd.cut(gdf.index, [0,.5,5,10,20,50,100,150,200],\n",
    "#                          labels=['0','1-5','5-10','10-20','20-50','50-100','100-150','>150'],include_lowest=True)"
   ]
  },
  {
   "cell_type": "code",
   "execution_count": 10,
   "metadata": {},
   "outputs": [],
   "source": [
    "date_dif_bins = [0,1,2,3,4,5,10,50,200]\n",
    "date_dif_labels = ['0','1','2','3','4','5-10','10-50','>50']\n",
    "def binDateDifDf(df, bins=date_dif_bins, labels=date_dif_labels, adtl_group_cols=[]):\n",
    "    #group by group_cols (default date_dif_days) and count lab tests for each\n",
    "    group_cols = ['date_dif_days'] + adtl_group_cols\n",
    "    gdf = df.groupby(group_cols).count()[['corona_result']].rename(columns={'corona_result':'tests_num'})\n",
    "    gdf=gdf.reset_index()\n",
    "    #bin dats\n",
    "    gdf['days_bin'] = pd.cut(gdf.date_dif_days, date_dif_bins,\n",
    "                         labels=date_dif_labels, include_lowest=True, right=False)\n",
    "    gdf['pct'] = (gdf['tests_num'] / gdf['tests_num'].sum() * 100)\n",
    "    # gdf.loc[:3,'pct']\n",
    "    \n",
    "    gdf = gdf.set_index(group_cols)\n",
    "\n",
    "    binned_gdf = gdf.groupby(['days_bin']+adtl_group_cols).sum()\n",
    "    \n",
    "    #reset_index\n",
    "    return gdf, binned_gdf"
   ]
  },
  {
   "cell_type": "code",
   "execution_count": 16,
   "metadata": {},
   "outputs": [],
   "source": [
    "## bin to categories - ALL TESTS\n",
    "gdf, binned_gdf = binDateDifDf(df_clean)\n",
    "\n",
    "## POSITIVE TESTS\n",
    "df_positive = df_clean[df_clean.corona_result=='חיובי'].reset_index(drop=True)\n",
    "gdf_positive, binned_gdf_positive = binDateDifDf(df_positive, bins=[0,1,2,3,4,5,10,50,200], labels=['0','1','2','3','4','5-10','10-50','>50'])\n",
    "\n",
    "\n",
    "## by weekday\n",
    "gdf_weekday, binned_gdf_weekday = binDateDifDf(df_clean, adtl_group_cols=['test_weekday'])\n"
   ]
  },
  {
   "cell_type": "code",
   "execution_count": 105,
   "metadata": {},
   "outputs": [],
   "source": [
    "# ## max days\n",
    "# df_positive.sort_values(by='date_dif_days', ascending=False)\n",
    "# df_clean[df_clean.corona_result=='חיובי'].sort_values(by='date_dif_days', ascending=False)"
   ]
  },
  {
   "cell_type": "markdown",
   "metadata": {},
   "source": [
    "### Graphs"
   ]
  },
  {
   "cell_type": "code",
   "execution_count": 17,
   "metadata": {},
   "outputs": [],
   "source": [
    "## mpl rcParams\n",
    "\n",
    "rcParams['axes.spines.right'] = False\n",
    "rcParams['axes.spines.top'] = False\n",
    "rcParams['axes.labelsize'] = 16\n",
    "rcParams['axes.labelweight'] = 'bold'\n",
    "rcParams['font.family'] = 'Lato'\n",
    "rcParams['font.size'] = 15"
   ]
  },
  {
   "cell_type": "code",
   "execution_count": 18,
   "metadata": {},
   "outputs": [
    {
     "data": {
      "image/png": "[encoded data removed]",
      "text/plain": [
       "<Figure size 432x288 with 1 Axes>"
      ]
     },
     "metadata": {
      "needs_background": "light"
     },
     "output_type": "display_data"
    }
   ],
   "source": [
    "## ALL TEST - % by Date Dif Bins\n",
    "fig, ax = plt.subplots()\n",
    "ax.bar(binned_gdf.index, binned_gdf.pct)\n",
    "ax.set_ylabel('Percent of Tests (%)')\n",
    "ax.set_xlabel('Days between test and result')\n",
    "for i, (val, pct) in enumerate(zip(binned_gdf['tests_num'],binned_gdf['pct'])):\n",
    "    ax.text(i, pct+1, format(val, ','), ha='center', size=11)\n",
    "ax.set_title(\"How many days between test and result? (All Tests)\", y=1.1, weight='bold')\n",
    "fig.savefig(\"graphs/days_between_test_results.jpg\", dpi=300, bbox_inches='tight')"
   ]
  },
  {
   "cell_type": "code",
   "execution_count": 19,
   "metadata": {},
   "outputs": [
    {
     "data": {
      "image/png": "[encoded data removed]",
      "text/plain": [
       "<Figure size 432x288 with 1 Axes>"
      ]
     },
     "metadata": {
      "needs_background": "light"
     },
     "output_type": "display_data"
    }
   ],
   "source": [
    "## POSITIVE TESTS - % by Date Dif Bins\n",
    "\n",
    "fig, ax = plt.subplots()\n",
    "ax.bar(binned_gdf_positive.index, binned_gdf_positive.pct)\n",
    "ax.set_ylabel('Percent of Tests (%)')\n",
    "ax.set_xlabel('Days between test and result')\n",
    "for i, (val, pct) in enumerate(zip(binned_gdf_positive['tests_num'],binned_gdf_positive['pct'])):\n",
    "    ax.text(i, pct+1, format(val, ','), ha='center', size=12)\n",
    "ax.set_title(\"How many days between test and result? (Corona Positive)\", y=1.1, weight='bold')\n",
    "fig.savefig(\"graphs/days_between_test_results_corona_positive.jpg\", dpi=300, bbox_inches='tight')"
   ]
  },
  {
   "cell_type": "code",
   "execution_count": 28,
   "metadata": {},
   "outputs": [
    {
     "name": "stdout",
     "output_type": "stream",
     "text": [
      "0\n",
      "1\n",
      "2\n",
      "3\n",
      "4\n",
      "5\n",
      "6\n"
     ]
    },
    {
     "data": {
      "text/html": [
       "<div>\n",
       "<style scoped>\n",
       "    .dataframe tbody tr th:only-of-type {\n",
       "        vertical-align: middle;\n",
       "    }\n",
       "\n",
       "    .dataframe tbody tr th {\n",
       "        vertical-align: top;\n",
       "    }\n",
       "\n",
       "    .dataframe thead th {\n",
       "        text-align: right;\n",
       "    }\n",
       "</style>\n",
       "<table border=\"1\" class=\"dataframe\">\n",
       "  <thead>\n",
       "    <tr style=\"text-align: right;\">\n",
       "      <th></th>\n",
       "      <th>days_bin</th>\n",
       "      <th>test_weekday</th>\n",
       "      <th>tests_num</th>\n",
       "      <th>pct</th>\n",
       "      <th>weekday_num</th>\n",
       "      <th>pct_wday</th>\n",
       "    </tr>\n",
       "  </thead>\n",
       "  <tbody>\n",
       "    <tr>\n",
       "      <th>0</th>\n",
       "      <td>0</td>\n",
       "      <td>Sunday</td>\n",
       "      <td>197868</td>\n",
       "      <td>6.063223</td>\n",
       "      <td>1</td>\n",
       "      <td>41.370486</td>\n",
       "    </tr>\n",
       "    <tr>\n",
       "      <th>1</th>\n",
       "      <td>1</td>\n",
       "      <td>Sunday</td>\n",
       "      <td>249932</td>\n",
       "      <td>7.658608</td>\n",
       "      <td>1</td>\n",
       "      <td>52.256091</td>\n",
       "    </tr>\n",
       "    <tr>\n",
       "      <th>2</th>\n",
       "      <td>2</td>\n",
       "      <td>Sunday</td>\n",
       "      <td>26232</td>\n",
       "      <td>0.803821</td>\n",
       "      <td>1</td>\n",
       "      <td>5.484619</td>\n",
       "    </tr>\n",
       "    <tr>\n",
       "      <th>3</th>\n",
       "      <td>3</td>\n",
       "      <td>Sunday</td>\n",
       "      <td>2308</td>\n",
       "      <td>0.070724</td>\n",
       "      <td>1</td>\n",
       "      <td>0.482559</td>\n",
       "    </tr>\n",
       "    <tr>\n",
       "      <th>4</th>\n",
       "      <td>4</td>\n",
       "      <td>Sunday</td>\n",
       "      <td>858</td>\n",
       "      <td>0.026291</td>\n",
       "      <td>1</td>\n",
       "      <td>0.179392</td>\n",
       "    </tr>\n",
       "  </tbody>\n",
       "</table>\n",
       "</div>"
      ],
      "text/plain": [
       "  days_bin test_weekday  tests_num       pct  weekday_num   pct_wday\n",
       "0        0       Sunday     197868  6.063223            1  41.370486\n",
       "1        1       Sunday     249932  7.658608            1  52.256091\n",
       "2        2       Sunday      26232  0.803821            1   5.484619\n",
       "3        3       Sunday       2308  0.070724            1   0.482559\n",
       "4        4       Sunday        858  0.026291            1   0.179392"
      ]
     },
     "execution_count": 28,
     "metadata": {},
     "output_type": "execute_result"
    }
   ],
   "source": [
    "## prep weekday df\n",
    "df = binned_gdf_weekday.reset_index()\n",
    "df['weekday_num'] = [1 if x=='Sunday' else 2 if x=='Monday' else 3 if x=='Tuesday' else\n",
    "                    4 if x=='Wednesday' else 5 if x =='Thursday' else 6 if x =='Friday'\n",
    "                    else 7 for x in df['test_weekday']]\n",
    "## add pct of each days bin per weekday\n",
    "df2 = pd.DataFrame()\n",
    "for wday_num in np.arange(7):\n",
    "    wday_df = df.loc[df.weekday_num==wday_num]\n",
    "    wday_df = wday_df.assign(pct_wday=(wday_df['tests_num'] / wday_df['tests_num'].sum() * 100))\n",
    "    df2 = df2.append(wday_df, ignore_index=True)\n"
   ]
  },
  {
   "cell_type": "code",
   "execution_count": 20,
   "metadata": {},
   "outputs": [
    {
     "data": {
      "text/plain": [
       "<matplotlib.legend.Legend at 0x2dd94846ec8>"
      ]
     },
     "execution_count": 20,
     "metadata": {},
     "output_type": "execute_result"
    },
    {
     "data": {
      "image/png": "[encoded data removed]",
      "text/plain": [
       "<Figure size 720x432 with 1 Axes>"
      ]
     },
     "metadata": {
      "needs_background": "light"
     },
     "output_type": "display_data"
    }
   ],
   "source": [
    "## num tests by weekday\n",
    "\n",
    "fig, ax = plt.subplots(figsize=(10,6))\n",
    "bottom = np.zeros(7)\n",
    "\n",
    "for abin in df.days_bin.unique():\n",
    "    bin_df = df.loc[df.days_bin == abin].sort_values(by='weekday_num').reset_index(drop=True)\n",
    "    ax.bar(bin_df['test_weekday'],bin_df['tests_num'], bottom=bottom,label=abin)\n",
    "    bottom = bottom+bin_df['tests_num']\n",
    "ax.legend(bbox_to_anchor=(.9,.5), loc='center left', title='Test-Result Gap (days)', frameon=False)\n"
   ]
  },
  {
   "cell_type": "code",
   "execution_count": null,
   "metadata": {},
   "outputs": [],
   "source": []
  },
  {
   "cell_type": "code",
   "execution_count": 199,
   "metadata": {},
   "outputs": [
    {
     "data": {
      "text/html": [
       "<div>\n",
       "<style scoped>\n",
       "    .dataframe tbody tr th:only-of-type {\n",
       "        vertical-align: middle;\n",
       "    }\n",
       "\n",
       "    .dataframe tbody tr th {\n",
       "        vertical-align: top;\n",
       "    }\n",
       "\n",
       "    .dataframe thead th {\n",
       "        text-align: right;\n",
       "    }\n",
       "</style>\n",
       "<table border=\"1\" class=\"dataframe\">\n",
       "  <thead>\n",
       "    <tr style=\"text-align: right;\">\n",
       "      <th></th>\n",
       "      <th>days_bin</th>\n",
       "      <th>test_weekday</th>\n",
       "      <th>tests_num</th>\n",
       "      <th>pct</th>\n",
       "      <th>weekday_num</th>\n",
       "    </tr>\n",
       "  </thead>\n",
       "  <tbody>\n",
       "    <tr>\n",
       "      <th>0</th>\n",
       "      <td>&gt;50</td>\n",
       "      <td>Sunday</td>\n",
       "      <td>34</td>\n",
       "      <td>0.001042</td>\n",
       "      <td>1</td>\n",
       "    </tr>\n",
       "    <tr>\n",
       "      <th>1</th>\n",
       "      <td>&gt;50</td>\n",
       "      <td>Monday</td>\n",
       "      <td>14</td>\n",
       "      <td>0.000429</td>\n",
       "      <td>2</td>\n",
       "    </tr>\n",
       "    <tr>\n",
       "      <th>2</th>\n",
       "      <td>&gt;50</td>\n",
       "      <td>Tuesday</td>\n",
       "      <td>7</td>\n",
       "      <td>0.000214</td>\n",
       "      <td>3</td>\n",
       "    </tr>\n",
       "    <tr>\n",
       "      <th>3</th>\n",
       "      <td>&gt;50</td>\n",
       "      <td>Wednesday</td>\n",
       "      <td>12</td>\n",
       "      <td>0.000368</td>\n",
       "      <td>4</td>\n",
       "    </tr>\n",
       "    <tr>\n",
       "      <th>4</th>\n",
       "      <td>&gt;50</td>\n",
       "      <td>Thursday</td>\n",
       "      <td>26</td>\n",
       "      <td>0.000797</td>\n",
       "      <td>5</td>\n",
       "    </tr>\n",
       "    <tr>\n",
       "      <th>5</th>\n",
       "      <td>&gt;50</td>\n",
       "      <td>Friday</td>\n",
       "      <td>26</td>\n",
       "      <td>0.000797</td>\n",
       "      <td>6</td>\n",
       "    </tr>\n",
       "    <tr>\n",
       "      <th>6</th>\n",
       "      <td>&gt;50</td>\n",
       "      <td>Saturday</td>\n",
       "      <td>9</td>\n",
       "      <td>0.000276</td>\n",
       "      <td>7</td>\n",
       "    </tr>\n",
       "  </tbody>\n",
       "</table>\n",
       "</div>"
      ],
      "text/plain": [
       "  days_bin test_weekday  tests_num       pct  weekday_num\n",
       "0      >50       Sunday         34  0.001042            1\n",
       "1      >50       Monday         14  0.000429            2\n",
       "2      >50      Tuesday          7  0.000214            3\n",
       "3      >50    Wednesday         12  0.000368            4\n",
       "4      >50     Thursday         26  0.000797            5\n",
       "5      >50       Friday         26  0.000797            6\n",
       "6      >50     Saturday          9  0.000276            7"
      ]
     },
     "execution_count": 199,
     "metadata": {},
     "output_type": "execute_result"
    },
    {
     "data": {
      "image/png": "[encoded data removed]",
      "text/plain": [
       "<Figure size 720x432 with 1 Axes>"
      ]
     },
     "metadata": {
      "needs_background": "light"
     },
     "output_type": "display_data"
    }
   ],
   "source": [
    "fig, ax = plt.subplots(figsize=(10,6))\n",
    "bottom = np.zeros(7)\n",
    "\n",
    "for abin in df.days_bin.unique():\n",
    "    bin_df = df.loc[df.days_bin == abin].sort_values(by='weekday_num').reset_index(drop=True)\n",
    "    \n",
    "bin_df\n",
    "# #     ax.bar(bin_df['test_weekday'],bin_df['tests_num'], bottom=bottom,label=abin)\n",
    "#     bottom = bottom+bin_df['tests_num']\n",
    "# ax.legend(bbox_to_anchor=(.9,.5), loc='center left', title='Test-Result Gap (days)', frameon=False)\n"
   ]
  },
  {
   "cell_type": "code",
   "execution_count": 136,
   "metadata": {},
   "outputs": [],
   "source": [
    "# import requests, time, pandas as pd\n",
    "# v.il/api/3/action/datastore_search?resource_id=dcf999c1-d394-4b57-a5e0-9d014a62e046&limit={}&offset={}'.format(limit, offset)\n",
    "    \n",
    "#     while notEmpty:\n",
    "#         r = requests.get(url)\n",
    "#         json = r.json()['result']['records']\n",
    "#         df = pd.DataFrame(json)\n",
    "#         if len(df)>0:\n",
    "#             fulldf = fulldf.append(df)\n",
    "#             limit += 10000\n",
    "#             offset += 10000\n",
    "#         else:\n",
    "#             notEmpty=False\n",
    "#         time.sleep(.5)\n",
    "    \n",
    "#     return finaldf\n",
    "\n",
    "# finaldf = loadLabData()\n"
   ]
  },
  {
   "cell_type": "code",
   "execution_count": 137,
   "metadata": {},
   "outputs": [],
   "source": [
    "# import requests, pandas as pd\n",
    "# url = 'https://data.gov.il/api/3/action/datastore_search?resource_id=dcf999c1-d394-4b57-a5e0-9d014a62e046&limit=5&offset=5'  \n",
    "# r = requests.get(url)\n",
    "# json = r.json()['result']['records']\n",
    "# df = pd.DataFrame(json)\n",
    "# df.head()"
   ]
  },
  {
   "cell_type": "code",
   "execution_count": null,
   "metadata": {},
   "outputs": [],
   "source": []
  }
 ],
 "metadata": {
  "kernelspec": {
   "display_name": "Python 3",
   "language": "python",
   "name": "python3"
  },
  "language_info": {
   "codemirror_mode": {
    "name": "ipython",
    "version": 3
   },
   "file_extension": ".py",
   "mimetype": "text/x-python",
   "name": "python",
   "nbconvert_exporter": "python",
   "pygments_lexer": "ipython3",
   "version": "3.7.7"
  }
 },
 "nbformat": 4,
 "nbformat_minor": 4
}
